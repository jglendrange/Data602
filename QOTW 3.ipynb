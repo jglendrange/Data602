{
 "cells": [
  {
   "cell_type": "code",
   "execution_count": 3,
   "metadata": {},
   "outputs": [
    {
     "name": "stdout",
     "output_type": "stream",
     "text": [
      "Enter sales for Monday: 20\n",
      "Enter sales for Tuesday: 50\n",
      "Enter sales for Wednesday: 30\n",
      "Enter sales for Thursday: 32\n",
      "Enter sales for Friday: 48\n",
      "Enter sales for Saturday: 40\n",
      "Enter sales for Sunday: 50\n"
     ]
    }
   ],
   "source": [
    "m = int(input('Enter sales for Monday: '))\n",
    "t = int(input('Enter sales for Tuesday: '))\n",
    "w = int(input('Enter sales for Wednesday: '))\n",
    "th = int(input('Enter sales for Thursday: '))\n",
    "f = int(input('Enter sales for Friday: '))\n",
    "sa = int(input('Enter sales for Saturday: '))\n",
    "su = int(input('Enter sales for Sunday: '))"
   ]
  },
  {
   "cell_type": "code",
   "execution_count": 4,
   "metadata": {},
   "outputs": [],
   "source": [
    "sales = [m, t, w, th, f, sa, su]"
   ]
  },
  {
   "cell_type": "code",
   "execution_count": 5,
   "metadata": {},
   "outputs": [
    {
     "name": "stdout",
     "output_type": "stream",
     "text": [
      "[20, 50, 30, 32, 48, 40, 50]\n"
     ]
    }
   ],
   "source": [
    "print(sales)"
   ]
  },
  {
   "cell_type": "code",
   "execution_count": 6,
   "metadata": {},
   "outputs": [
    {
     "name": "stdout",
     "output_type": "stream",
     "text": [
      "270\n"
     ]
    }
   ],
   "source": [
    "total = 0\n",
    "for i in range(0, len(sales)):\n",
    "    total = total + sales[i]\n",
    "print(total)"
   ]
  },
  {
   "cell_type": "code",
   "execution_count": null,
   "metadata": {},
   "outputs": [],
   "source": []
  }
 ],
 "metadata": {
  "kernelspec": {
   "display_name": "Python 3",
   "language": "python",
   "name": "python3"
  },
  "language_info": {
   "codemirror_mode": {
    "name": "ipython",
    "version": 3
   },
   "file_extension": ".py",
   "mimetype": "text/x-python",
   "name": "python",
   "nbconvert_exporter": "python",
   "pygments_lexer": "ipython3",
   "version": "3.7.5"
  }
 },
 "nbformat": 4,
 "nbformat_minor": 2
}
